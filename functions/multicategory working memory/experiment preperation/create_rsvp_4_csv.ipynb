{
 "cells": [
  {
   "attachments": {},
   "cell_type": "markdown",
   "metadata": {},
   "source": [
    "# This notebook is a continuation of the multicategory project to check working memory. \n",
    "## we are creating the rsvp paradigm with 4 images (target + 3 background), because the batches from experiment 1 resulted only in 30% subjects achiving above chance. \n",
    "## We are using the same raw data (located in the multicategory project folder) and the same taregt and distractor images (located aswell in that directory)\n",
    "\n",
    "\n",
    "### We begin by choosing randomly new backround images (50 from each category).\n",
    "### Then, we select a set of 4 different images for each target from different categories \n",
    "### finaly, we create 100 experimental csv files. "
   ]
  },
  {
   "cell_type": "code",
   "execution_count": 1,
   "metadata": {},
   "outputs": [],
   "source": [
    "import numpy as np\n",
    "import pandas as pd \n",
    "from pathlib import Path\n",
    "import matplotlib.pyplot as plt\n",
    "import random\n",
    "import os\n",
    "import shutil\n",
    "from itertools import chain\n",
    "import seaborn as sns "
   ]
  },
  {
   "cell_type": "code",
   "execution_count": 2,
   "metadata": {},
   "outputs": [],
   "source": [
    "project_name_images = 'multicategory'\n",
    "project_name_outputs = 'multicategory_working_memory'\n",
    "PATH_TO_PROJECT = Path.cwd().parent.parent.parent / 'projects' / project_name_outputs\n",
    "PATH_TO_IMAGES = Path.cwd().parent.parent.parent / 'projects' / project_name_images / 'raw data' \n",
    "PATH_TO_SAVE_CSV_FILES = PATH_TO_PROJECT/ 'experiment 3' / 'experiment resources' / 'csvs'\n",
    "PATH_TO_SELECTED_IMAGES = PATH_TO_PROJECT/ 'experiment 3' / 'experiment resources' / 'images' / 'all experiment images'"
   ]
  },
  {
   "attachments": {},
   "cell_type": "markdown",
   "metadata": {},
   "source": [
    "### Load the selected targets and distractors names "
   ]
  },
  {
   "cell_type": "code",
   "execution_count": 3,
   "metadata": {},
   "outputs": [],
   "source": [
    "targets_and_distractors = pd.read_csv(PATH_TO_PROJECT/'targets_and_distractors.csv')"
   ]
  },
  {
   "attachments": {},
   "cell_type": "markdown",
   "metadata": {},
   "source": [
    "### Select 40 random background images from each category"
   ]
  },
  {
   "cell_type": "code",
   "execution_count": 4,
   "metadata": {},
   "outputs": [],
   "source": [
    "selected_images_names = list(targets_and_distractors.values.flatten())"
   ]
  },
  {
   "cell_type": "code",
   "execution_count": 5,
   "metadata": {},
   "outputs": [],
   "source": [
    "def copy_images_to_folder(image_list, source_path,destination_folder):\n",
    "    # Iterate over the image list and copy each image to the destination folder\n",
    "    for image_name in image_list:\n",
    "        cur_source_path = os.path.join(source_path, image_name)\n",
    "        destination_path = os.path.join(destination_folder,image_name)\n",
    "        shutil.copyfile(cur_source_path, destination_path)"
   ]
  },
  {
   "cell_type": "code",
   "execution_count": 19,
   "metadata": {},
   "outputs": [
    {
     "name": "stderr",
     "output_type": "stream",
     "text": [
      "/var/folders/35/zj9lmn1x0ygd3qmyy6yx328w0000gn/T/ipykernel_70137/3731460210.py:11: DeprecationWarning: Sampling from a set deprecated\n",
      "since Python 3.9 and will be removed in a subsequent version.\n",
      "  selected_backround_images = random.sample(all_avaliable_images,40)\n"
     ]
    }
   ],
   "source": [
    "select_random_background_images = True # if this is set to true, new images will be selected! \n",
    "                                        # this is done randomly so there will be more than 540 images in the folder.\n",
    "\n",
    "cat_names = ['badlands','bridge','playground','mountain','highway','golf_course']\n",
    "if select_random_background_images:\n",
    "    for x in PATH_TO_IMAGES.iterdir():\n",
    "        curr_cat = x.name\n",
    "        if curr_cat in cat_names:\n",
    "            all_cat_images = os.listdir(x)\n",
    "            all_avaliable_images = set(all_cat_images) - set(selected_images_names)\n",
    "            selected_backround_images = random.sample(all_avaliable_images,40)\n",
    "            source_path = PATH_TO_IMAGES / curr_cat\n",
    "            copy_images_to_folder(selected_backround_images,source_path,PATH_TO_SELECTED_IMAGES)\n",
    "        "
   ]
  },
  {
   "attachments": {},
   "cell_type": "markdown",
   "metadata": {},
   "source": [
    "### Now we will create the subejct csvs "
   ]
  },
  {
   "cell_type": "code",
   "execution_count": 20,
   "metadata": {},
   "outputs": [],
   "source": [
    "all_images = [imname for imname in os.listdir(PATH_TO_SELECTED_IMAGES) if '.jpg' in imname]\n",
    "optional_background_images = set(all_images) - set(selected_images_names)"
   ]
  },
  {
   "cell_type": "code",
   "execution_count": 21,
   "metadata": {},
   "outputs": [
    {
     "data": {
      "text/plain": [
       "240"
      ]
     },
     "execution_count": 21,
     "metadata": {},
     "output_type": "execute_result"
    }
   ],
   "source": [
    "len(optional_background_images)"
   ]
  },
  {
   "cell_type": "code",
   "execution_count": 47,
   "metadata": {},
   "outputs": [
    {
     "name": "stdout",
     "output_type": "stream",
     "text": [
      "there are 0 nan values\n",
      "n = 240\n",
      "there are 0 nan values\n",
      "n = 240\n",
      "there are 0 nan values\n",
      "n = 240\n",
      "there are 0 nan values\n",
      "n = 240\n",
      "there are 0 nan values\n",
      "n = 240\n",
      "there are 0 nan values\n",
      "n = 240\n",
      "there are 0 nan values\n",
      "n = 240\n",
      "there are 0 nan values\n",
      "n = 240\n",
      "there are 0 nan values\n",
      "n = 240\n",
      "there are 0 nan values\n",
      "n = 240\n",
      "there are 0 nan values\n",
      "n = 240\n",
      "there are 0 nan values\n",
      "n = 240\n",
      "there are 0 nan values\n",
      "n = 240\n",
      "there are 0 nan values\n",
      "n = 240\n",
      "there are 0 nan values\n",
      "n = 240\n",
      "there are 0 nan values\n",
      "n = 240\n",
      "there are 0 nan values\n",
      "n = 240\n",
      "there are 0 nan values\n",
      "n = 240\n",
      "there are 0 nan values\n",
      "n = 240\n",
      "there are 0 nan values\n",
      "n = 240\n",
      "there are 0 nan values\n",
      "n = 240\n",
      "there are 0 nan values\n",
      "n = 240\n",
      "there are 0 nan values\n",
      "n = 240\n",
      "there are 0 nan values\n",
      "n = 240\n",
      "there are 0 nan values\n",
      "n = 240\n",
      "there are 0 nan values\n",
      "n = 240\n",
      "there are 0 nan values\n",
      "n = 240\n",
      "there are 0 nan values\n",
      "n = 240\n",
      "there are 0 nan values\n",
      "n = 240\n",
      "there are 0 nan values\n",
      "n = 240\n",
      "there are 0 nan values\n",
      "n = 240\n",
      "there are 0 nan values\n",
      "n = 240\n",
      "there are 0 nan values\n",
      "n = 240\n",
      "there are 0 nan values\n",
      "n = 240\n",
      "there are 0 nan values\n",
      "n = 240\n",
      "there are 0 nan values\n",
      "n = 240\n",
      "there are 0 nan values\n",
      "n = 240\n",
      "there are 0 nan values\n",
      "n = 240\n",
      "there are 0 nan values\n",
      "n = 240\n",
      "there are 0 nan values\n",
      "n = 240\n",
      "there are 0 nan values\n",
      "n = 240\n",
      "there are 0 nan values\n",
      "n = 240\n",
      "there are 0 nan values\n",
      "n = 240\n",
      "there are 0 nan values\n",
      "n = 240\n",
      "there are 0 nan values\n",
      "n = 240\n",
      "there are 0 nan values\n",
      "n = 240\n",
      "there are 0 nan values\n",
      "n = 240\n",
      "there are 0 nan values\n",
      "n = 240\n",
      "there are 0 nan values\n",
      "n = 240\n",
      "there are 0 nan values\n",
      "n = 240\n",
      "there are 0 nan values\n",
      "n = 240\n",
      "there are 0 nan values\n",
      "n = 240\n",
      "there are 0 nan values\n",
      "n = 240\n",
      "there are 0 nan values\n",
      "n = 240\n",
      "there are 0 nan values\n",
      "n = 240\n",
      "there are 0 nan values\n",
      "n = 240\n",
      "there are 0 nan values\n",
      "n = 240\n",
      "there are 0 nan values\n",
      "n = 240\n",
      "there are 0 nan values\n",
      "n = 240\n",
      "there are 0 nan values\n",
      "n = 240\n",
      "there are 0 nan values\n",
      "n = 240\n",
      "there are 0 nan values\n",
      "n = 240\n",
      "there are 0 nan values\n",
      "n = 240\n",
      "there are 0 nan values\n",
      "n = 240\n",
      "there are 0 nan values\n",
      "n = 240\n",
      "there are 0 nan values\n",
      "n = 240\n",
      "there are 0 nan values\n",
      "n = 240\n",
      "there are 0 nan values\n",
      "n = 240\n",
      "there are 0 nan values\n",
      "n = 240\n",
      "there are 0 nan values\n",
      "n = 240\n",
      "there are 0 nan values\n",
      "n = 240\n",
      "there are 0 nan values\n",
      "n = 240\n",
      "there are 0 nan values\n",
      "n = 240\n",
      "there are 0 nan values\n",
      "n = 240\n",
      "there are 0 nan values\n",
      "n = 240\n",
      "there are 0 nan values\n",
      "n = 240\n",
      "there are 0 nan values\n",
      "n = 240\n",
      "there are 0 nan values\n",
      "n = 240\n",
      "there are 0 nan values\n",
      "n = 240\n",
      "there are 0 nan values\n",
      "n = 240\n",
      "there are 0 nan values\n",
      "n = 240\n",
      "there are 0 nan values\n",
      "n = 240\n",
      "there are 0 nan values\n",
      "n = 240\n",
      "there are 0 nan values\n",
      "n = 240\n",
      "there are 0 nan values\n",
      "n = 240\n",
      "there are 0 nan values\n",
      "n = 240\n",
      "there are 0 nan values\n",
      "n = 240\n",
      "there are 0 nan values\n",
      "n = 240\n",
      "there are 0 nan values\n",
      "n = 240\n",
      "there are 0 nan values\n",
      "n = 240\n",
      "there are 0 nan values\n",
      "n = 240\n",
      "there are 0 nan values\n",
      "n = 240\n",
      "there are 0 nan values\n",
      "n = 240\n",
      "there are 0 nan values\n",
      "n = 240\n",
      "there are 0 nan values\n",
      "n = 240\n",
      "there are 0 nan values\n",
      "n = 240\n",
      "there are 0 nan values\n",
      "n = 240\n",
      "there are 0 nan values\n",
      "n = 240\n",
      "there are 0 nan values\n",
      "n = 240\n",
      "there are 0 nan values\n",
      "n = 240\n"
     ]
    }
   ],
   "source": [
    "for sub in range(100):\n",
    "    curr_experiment_df = targets_and_distractors.copy()\n",
    "    previosly_selected_backround_images = []\n",
    "    # Function to select random value from dist_0 or dist_1 and assign distractor_level\n",
    "    def select_random_distractor(row):\n",
    "        target_image = row['target']\n",
    "     \n",
    "        selected_dist = row['selected_dist']\n",
    "        image1 = random.choice([target_image,selected_dist])\n",
    "        if image1 == target_image:\n",
    "            image2 = selected_dist\n",
    "            correct = 'left'\n",
    "        else: \n",
    "            image2 = target_image\n",
    "            correct = 'right'\n",
    "        return pd.Series([image1,image2,correct])\n",
    "\n",
    "    # select random distractor for each target\n",
    "    curr_experiment_df = curr_experiment_df.sample(frac=1)\n",
    "    curr_experiment_df.reset_index(inplace=True,drop=True)\n",
    "    #select the 30 first rows for dist 0: \n",
    "    level_0_dist = list(curr_experiment_df['dist_0'][0:30].values)\n",
    "    level_1_dist = list(curr_experiment_df['dist_1'][30:].values)\n",
    "    all_distractors = level_0_dist + level_1_dist\n",
    "    curr_experiment_df['selected_dist'] = all_distractors \n",
    "    curr_experiment_df['distractor_level'] = [0] * 30 + [1] * 30\n",
    "\n",
    "    curr_experiment_df[['image1','image2','correct']] = curr_experiment_df.apply(select_random_distractor, axis=1)\n",
    "    curr_experiment_df.drop(['dist_0','dist_1'],axis = 1,inplace=True)\n",
    "\n",
    "    # add category name column \n",
    "    curr_experiment_df['category'] = curr_experiment_df['target'].apply(lambda x: x.split('_')[0])\n",
    "\n",
    "    # select 4 random image from different category than the target \n",
    "    def select_random_backround_images(row):\n",
    "        category_name = row['category']\n",
    "        target_image = row['target']\n",
    "        # removing background images from the same category as target \n",
    "        cur_optional_background_images = [x for x in optional_background_images if category_name not in x]\n",
    "        # removing background images that have been selected\n",
    "        cur_optional_background_images = [x for x in cur_optional_background_images if x not in list(chain.from_iterable(previosly_selected_backround_images))]\n",
    "        random.shuffle(cur_optional_background_images)\n",
    "        selected_images = {}\n",
    "        # Iterate over the image names\n",
    "        for name in cur_optional_background_images:\n",
    "            # Extract the category from the image name\n",
    "            category = name.split(\"_\")[0]\n",
    "            # Check if the category is already in the selected images dictionary\n",
    "            if category not in selected_images and len(list(selected_images.keys())) < 3:\n",
    "                # If not, get all the images belonging to that category\n",
    "                category_images = [image for image in cur_optional_background_images if image.startswith(category)]\n",
    "                # Randomly select one image from the category\n",
    "                selected_image = random.choice(category_images)\n",
    "                # Add the selected image to the dictionary\n",
    "                selected_images[category] = selected_image\n",
    "\n",
    "\n",
    "        selected_images = random.sample(list(selected_images.values()),len(list(selected_images.values())))\n",
    "        previosly_selected_backround_images.append(selected_images)\n",
    "        # inserting target image name between 0-3 (not last index)\n",
    "        random_index_target = random.randint(0, 2)\n",
    "        selected_images.insert(random_index_target,target_image)\n",
    "        selected_images.append(random_index_target)\n",
    "        return selected_images\n",
    "\n",
    "    selected_background = curr_experiment_df.apply(select_random_backround_images, axis=1)\n",
    "    # Add each value in the series to separate columns\n",
    "    selected_background = selected_background.apply(pd.Series)\n",
    "\n",
    "    # Rename the columns\n",
    "    selected_background.columns = [f'background_{i}' for i in range(selected_background.shape[1])]\n",
    "    selected_background = selected_background.rename({'background_4':'target_index'},axis=1)\n",
    "    # Concatenate the existing DataFrame and the new columns\n",
    "    curr_experiment_df = pd.concat([curr_experiment_df, selected_background], axis=1)\n",
    "    print(f'there are {curr_experiment_df.isna().sum().sum()} nan values')\n",
    "    n = len(set(list(curr_experiment_df[['background_0','background_1','background_2','background_3']].values.flatten())))\n",
    "    print(f'n = {n}')\n",
    "    # now we randomize the row order\n",
    "    curr_experiment_df['background_4'] = curr_experiment_df['background_3'] \n",
    "    curr_experiment_df['background_5'] = curr_experiment_df['background_4'] \n",
    "    curr_experiment_df = curr_experiment_df.sample(frac=1)\n",
    "    curr_experiment_df.reset_index(inplace=True,drop=True)\n",
    "    curr_experiment_df.to_csv(PATH_TO_SAVE_CSV_FILES/f'sub_{sub}.csv',index=False)"
   ]
  },
  {
   "cell_type": "code",
   "execution_count": 48,
   "metadata": {},
   "outputs": [],
   "source": [
    "target_locations=[]\n",
    "for i in range(len(curr_experiment_df)):\n",
    "    cur_target=curr_experiment_df['target'].iloc[i]\n",
    "    backgrounds = curr_experiment_df[['background_0','background_1','background_2','background_3']].iloc[i].values\n",
    "    cur_target_exists = np.argwhere(cur_target==backgrounds)[0][0]\n",
    "    target_locations.append(cur_target_exists)"
   ]
  },
  {
   "cell_type": "code",
   "execution_count": 49,
   "metadata": {},
   "outputs": [
    {
     "data": {
      "text/plain": [
       "(array([21.,  0.,  0.,  0.,  0., 18.,  0.,  0.,  0., 21.]),\n",
       " array([0. , 0.2, 0.4, 0.6, 0.8, 1. , 1.2, 1.4, 1.6, 1.8, 2. ]),\n",
       " <BarContainer object of 10 artists>)"
      ]
     },
     "execution_count": 49,
     "metadata": {},
     "output_type": "execute_result"
    },
    {
     "data": {
      "image/png": "[encoded data removed]",
      "text/plain": [
       "<Figure size 640x480 with 1 Axes>"
      ]
     },
     "metadata": {},
     "output_type": "display_data"
    }
   ],
   "source": [
    "plt.figure()\n",
    "plt.hist(target_locations)"
   ]
  }
 ],
 "metadata": {
  "kernelspec": {
   "display_name": ".venv",
   "language": "python",
   "name": "python3"
  },
  "language_info": {
   "codemirror_mode": {
    "name": "ipython",
    "version": 3
   },
   "file_extension": ".py",
   "mimetype": "text/x-python",
   "name": "python",
   "nbconvert_exporter": "python",
   "pygments_lexer": "ipython3",
   "version": "3.10.11"
  },
  "orig_nbformat": 4
 },
 "nbformat": 4,
 "nbformat_minor": 2
}
