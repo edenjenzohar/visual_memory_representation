{
 "cells": [
  {
   "attachments": {},
   "cell_type": "markdown",
   "metadata": {},
   "source": [
    "# This notebook is a continuation of the multicategory project to check working memory. \n",
    "## We are using the same raw data (located in the multicategory project folder) and the same taregt and distractor images (located aswell in that directory)\n",
    "\n",
    "### We begin by choosing randomly new backround images (60 from each category).\n",
    "### Then, we cselect a set of 5 different images for each target from different categories \n",
    "### finaly, we create 100 experimental csv files. "
   ]
  },
  {
   "cell_type": "code",
   "execution_count": 33,
   "metadata": {},
   "outputs": [],
   "source": [
    "import numpy as np\n",
    "import pandas as pd \n",
    "from pathlib import Path\n",
    "import matplotlib.pyplot as plt\n",
    "import random\n",
    "import os\n",
    "import shutil\n",
    "from itertools import chain\n",
    "import seaborn as sns "
   ]
  },
  {
   "cell_type": "code",
   "execution_count": 3,
   "metadata": {},
   "outputs": [],
   "source": [
    "project_name_images = 'multicategory'\n",
    "project_name_outputs = 'multicategory_working_memory'\n",
    "PATH_TO_PROJECT = Path.cwd().parent.parent.parent / 'projects' / project_name_outputs\n",
    "PATH_TO_IMAGES = Path.cwd().parent.parent.parent / 'projects' / project_name_images / 'raw data' \n",
    "PATH_TO_SAVE_CSV_FILES = PATH_TO_PROJECT/ 'experiment 1' / 'experiment resources' / 'csvs'\n",
    "PATH_TO_SELECTED_IMAGES = PATH_TO_PROJECT/ 'experiment 1' / 'experiment resources' / 'images' / 'all experiment images'"
   ]
  },
  {
   "attachments": {},
   "cell_type": "markdown",
   "metadata": {},
   "source": [
    "### Load the selected targets and distractors names "
   ]
  },
  {
   "cell_type": "code",
   "execution_count": 252,
   "metadata": {},
   "outputs": [],
   "source": [
    "targets_and_distractors = pd.read_csv(PATH_TO_PROJECT/'targets_and_distractors.csv')"
   ]
  },
  {
   "attachments": {},
   "cell_type": "markdown",
   "metadata": {},
   "source": [
    "### Select 60 random background images from each category"
   ]
  },
  {
   "cell_type": "code",
   "execution_count": 253,
   "metadata": {},
   "outputs": [],
   "source": [
    "selected_images_names = list(targets_and_distractors.values.flatten())"
   ]
  },
  {
   "cell_type": "code",
   "execution_count": 254,
   "metadata": {},
   "outputs": [],
   "source": [
    "def copy_images_to_folder(image_list, source_path,destination_folder):\n",
    "    # Iterate over the image list and copy each image to the destination folder\n",
    "    for image_name in image_list:\n",
    "        cur_source_path = os.path.join(source_path, image_name)\n",
    "        destination_path = os.path.join(destination_folder,image_name)\n",
    "        shutil.copyfile(cur_source_path, destination_path)"
   ]
  },
  {
   "cell_type": "code",
   "execution_count": 255,
   "metadata": {},
   "outputs": [],
   "source": [
    "select_random_background_images = False # if this is set to true, new images will be selected! \n",
    "                                        # this is done randomly so there will be more than 540 images in the folder.\n",
    "\n",
    "cat_names = ['badlands','bridge','highway','golf_course','playground','mountain','highway','golf_course']\n",
    "if select_random_background_images:\n",
    "    for x in PATH_TO_IMAGES.iterdir():\n",
    "        curr_cat = x.name\n",
    "        if curr_cat in cat_names:\n",
    "            all_cat_images = os.listdir(x)\n",
    "            all_avaliable_images = set(all_cat_images) - set(selected_images_names)\n",
    "            selected_backround_images = random.sample(all_avaliable_images,60)\n",
    "            source_path = PATH_TO_IMAGES / curr_cat\n",
    "            copy_images_to_folder(selected_backround_images,source_path,PATH_TO_SELECTED_IMAGES)\n",
    "        "
   ]
  },
  {
   "attachments": {},
   "cell_type": "markdown",
   "metadata": {},
   "source": [
    "### Now we will create the subejct csvs "
   ]
  },
  {
   "cell_type": "code",
   "execution_count": 256,
   "metadata": {},
   "outputs": [],
   "source": [
    "all_images = os.listdir(PATH_TO_SELECTED_IMAGES)\n",
    "optional_background_images = set(all_images) - set(selected_images_names)"
   ]
  },
  {
   "cell_type": "code",
   "execution_count": 257,
   "metadata": {},
   "outputs": [],
   "source": [
    "\n",
    "for sub in range(100):\n",
    "    curr_experiment_df = targets_and_distractors.copy()\n",
    "    previosly_selected_backround_images = []\n",
    "    # Function to select random value from dist_0 or dist_1 and assign distractor_level\n",
    "    def select_random_distractor(row):\n",
    "        target_image = row['target']\n",
    "        distractor_options = [row['dist_0'], row['dist_1']]\n",
    "        selected_dist = random.choice(distractor_options)\n",
    "        image1 = random.choice([target_image,selected_dist])\n",
    "        if image1 == target_image:\n",
    "            image2 = selected_dist\n",
    "            correct = 'left'\n",
    "        else: \n",
    "            image2 = target_image\n",
    "            correct = 'right'\n",
    "        distractor_level = 0 if selected_dist == row['dist_0'] else 1\n",
    "        return pd.Series([selected_dist, distractor_level,image1,image2,correct])\n",
    "\n",
    "    # select random distractor for each target\n",
    "    curr_experiment_df[['selected_dist', 'distractor_level','image1','image2','correct']] = curr_experiment_df.apply(select_random_distractor, axis=1)\n",
    "    curr_experiment_df.drop(['dist_0','dist_1'],axis = 1,inplace=True)\n",
    "\n",
    "    # add category name column \n",
    "    curr_experiment_df['category'] = curr_experiment_df['target'].apply(lambda x: x.split('_')[0])\n",
    "\n",
    "    # select 5 random image from different category than the target \n",
    "    def select_random_backround_images(row):\n",
    "        category_name = row['category']\n",
    "        target_image = row['target']\n",
    "        # removing background images from the same category as target \n",
    "        cur_optional_background_images = [x for x in optional_background_images if category_name not in x]\n",
    "        # removing background images that have been selected\n",
    "        cur_optional_background_images = [x for x in cur_optional_background_images if x not in list(chain.from_iterable(previosly_selected_backround_images))]\n",
    "        selected_images = {}\n",
    "        # Iterate over the image names\n",
    "        for name in cur_optional_background_images:\n",
    "            # Extract the category from the image name\n",
    "            category = name.split(\"_\")[0]\n",
    "            # Check if the category is already in the selected images dictionary\n",
    "            if category not in selected_images:\n",
    "                # If not, get all the images belonging to that category\n",
    "                category_images = [image for image in cur_optional_background_images if image.startswith(category)]\n",
    "                # Randomly select one image from the category\n",
    "                selected_image = random.choice(category_images)\n",
    "                # Add the selected image to the dictionary\n",
    "                selected_images[category] = selected_image\n",
    "\n",
    "\n",
    "        selected_images = random.sample(list(selected_images.values()),len(list(selected_images.values())))\n",
    "        previosly_selected_backround_images.append(selected_images)\n",
    "        # inserting target image name between 0-4 (not last index)\n",
    "        random_index_target = random.randint(0, 4)\n",
    "        selected_images.insert(random_index_target,target_image)\n",
    "        selected_images.append(random_index_target)\n",
    "        return selected_images\n",
    "\n",
    "    selected_background = curr_experiment_df.apply(select_random_backround_images, axis=1)\n",
    "    # Add each value in the series to separate columns\n",
    "    selected_background = selected_background.apply(pd.Series)\n",
    "\n",
    "    # Rename the columns\n",
    "    selected_background.columns = [f'background_{i}' for i in range(selected_background.shape[1])]\n",
    "    selected_background = selected_background.rename({'background_6':'target_index'},axis=1)\n",
    "    # Concatenate the existing DataFrame and the new columns\n",
    "    curr_experiment_df = pd.concat([curr_experiment_df, selected_background], axis=1)\n",
    "\n",
    "    # now we randomize the row order\n",
    "    curr_experiment_df = curr_experiment_df.sample(frac=1)\n",
    "    curr_experiment_df.reset_index(inplace=True,drop=True)\n",
    "    curr_experiment_df.to_csv(PATH_TO_SAVE_CSV_FILES/f'sub_{sub}.csv',index=False)"
   ]
  }
 ],
 "metadata": {
  "kernelspec": {
   "display_name": ".venv",
   "language": "python",
   "name": "python3"
  },
  "language_info": {
   "codemirror_mode": {
    "name": "ipython",
    "version": 3
   },
   "file_extension": ".py",
   "mimetype": "text/x-python",
   "name": "python",
   "nbconvert_exporter": "python",
   "pygments_lexer": "ipython3",
   "version": "3.10.11"
  },
  "orig_nbformat": 4
 },
 "nbformat": 4,
 "nbformat_minor": 2
}
