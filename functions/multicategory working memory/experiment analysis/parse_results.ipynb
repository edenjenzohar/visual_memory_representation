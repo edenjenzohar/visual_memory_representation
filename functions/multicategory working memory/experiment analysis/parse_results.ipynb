{
 "cells": [
  {
   "attachments": {},
   "cell_type": "markdown",
   "metadata": {},
   "source": [
    "### This script is a temporary script for analyzing the working memory results for the initial pilots. \n",
    "#### we will later create a full analysis pipline in the code \"parse results same day encoding and testing\""
   ]
  },
  {
   "cell_type": "code",
   "execution_count": 1,
   "metadata": {},
   "outputs": [],
   "source": [
    "import numpy as np\n",
    "import pandas as pd \n",
    "from pathlib import Path\n",
    "import matplotlib.pyplot as plt\n",
    "import random\n",
    "import os\n",
    "import shutil\n",
    "from itertools import chain\n",
    "import seaborn as sns "
   ]
  },
  {
   "cell_type": "code",
   "execution_count": 2,
   "metadata": {},
   "outputs": [],
   "source": [
    "project_name_outputs = 'multicategory_working_memory'\n",
    "PATH_TO_PROJECT = Path.cwd().parent.parent.parent / 'projects' / project_name_outputs\n",
    "path_to_data = PATH_TO_PROJECT / 'experiment 1' / 'collected data' / 'pilot_same_day' / 'batch 2' / 'data'"
   ]
  },
  {
   "cell_type": "code",
   "execution_count": 3,
   "metadata": {},
   "outputs": [],
   "source": [
    "results = []\n",
    "\n",
    "for file in os.listdir(path_to_data):\n",
    "        if file.endswith(\".csv\"):\n",
    "\n",
    "            df = pd.read_csv(path_to_data/file)\n",
    "            df_accuracy = df.iloc[3:63].dropna(axis=1,how='all')\n",
    "            df_rating = df.iloc[63:123].dropna(axis=1,how='all')\n",
    "\n",
    "            cols = ['workID', 'Age', 'Gender','target', 'image1', 'image2', 'correct', 'background_0', 'background_1', 'background_2', 'background_3', 'background_4', 'background_5', 'target_index','test_key_resp.keys','test_key_resp.rt','distractor_level','category','selected_dist' ]\n",
    "            df_accuracy = df_accuracy[cols].reset_index(drop=True)\n",
    "            df_rating = df_rating[['slider_part2.response','slider_part2.rt']].reset_index(drop=True)\n",
    "            df_rating_and_accuarcy = pd.concat([df_accuracy,df_rating],axis=1)\n",
    "            results.append(df_rating_and_accuarcy)\n",
    "\n",
    "\n",
    "\n",
    "data_long_format = pd.concat(results,axis = 0)"
   ]
  },
  {
   "cell_type": "code",
   "execution_count": null,
   "metadata": {},
   "outputs": [],
   "source": [
    "data_long_format['correct_bool'] = data_long_format['correct'] == data_long_format['test_key_resp.keys']"
   ]
  },
  {
   "cell_type": "code",
   "execution_count": null,
   "metadata": {},
   "outputs": [],
   "source": [
    "data_long_format.groupby('workID')['correct_bool'].sum()"
   ]
  },
  {
   "cell_type": "code",
   "execution_count": null,
   "metadata": {},
   "outputs": [],
   "source": [
    "grouped = data_long_format.groupby(['workID','distractor_level']).aggregate({'correct_bool':'sum'})\n",
    "grouped_rating = data_long_format.groupby(['workID','distractor_level']).aggregate({'slider_part2.response':'mean'})"
   ]
  },
  {
   "cell_type": "code",
   "execution_count": null,
   "metadata": {},
   "outputs": [],
   "source": [
    "grouped['level'] = [a[-1] for a in grouped.index]\n",
    "grouped_rating['level'] = [a[-1] for a in grouped_rating.index]"
   ]
  },
  {
   "cell_type": "code",
   "execution_count": null,
   "metadata": {},
   "outputs": [],
   "source": [
    "def add_connecting_lines_to_stripplot(stripplot_handle,ax):\n",
    "  #get the current offsets:\n",
    "  paths = stripplot_handle.collections\n",
    "  #get x offsets:\n",
    "  x_offsets = [path.get_offsets()[:,0] for path in paths]\n",
    "  x_offsets_arrays=[np.array(offsets) for offsets in x_offsets]\n",
    "  #get y offsets:\n",
    "  y_offsets = [path.get_offsets()[:,1] for path in paths]\n",
    "  y_offsets_arrays=[np.array(offsets) for offsets in y_offsets]\n",
    "  # Connect each pair of points from the same row with a line\n",
    "  for bar_ind in np.arange(0,len(x_offsets_arrays)-1):\n",
    "    for i in range(len(x_offsets_arrays[0])):\n",
    "      ax.plot([x_offsets_arrays[bar_ind][i], x_offsets_arrays[bar_ind+1][i]], [y_offsets_arrays[bar_ind][i], y_offsets_arrays[bar_ind+1][i]], color=\"gray\", alpha=0.75)"
   ]
  },
  {
   "cell_type": "code",
   "execution_count": null,
   "metadata": {},
   "outputs": [],
   "source": [
    "fig,axes=plt.subplots(nrows=1,ncols=2,figsize=[10,5])\n",
    "\n",
    "sns.barplot(data=grouped/30,x='level',y = 'correct_bool',ax = axes[0])\n",
    "handel1 = sns.stripplot(data=grouped/30,x='level',y = 'correct_bool',color='k',ax = axes[0])\n",
    "\n",
    "sns.barplot(data=grouped_rating,x='level',y = 'slider_part2.response',ax = axes[1])\n",
    "handel2 = sns.stripplot(data=grouped_rating,x='level',y = 'slider_part2.response',color='k',ax = axes[1])\n",
    "\n",
    "#use the function with the handle that was returned from the stripplot\n",
    "add_connecting_lines_to_stripplot(handel1,axes[0])\n",
    "add_connecting_lines_to_stripplot(handel2,axes[1])"
   ]
  }
 ],
 "metadata": {
  "kernelspec": {
   "display_name": ".venv",
   "language": "python",
   "name": "python3"
  },
  "language_info": {
   "codemirror_mode": {
    "name": "ipython",
    "version": 3
   },
   "file_extension": ".py",
   "mimetype": "text/x-python",
   "name": "python",
   "nbconvert_exporter": "python",
   "pygments_lexer": "ipython3",
   "version": "3.10.11"
  },
  "orig_nbformat": 4
 },
 "nbformat": 4,
 "nbformat_minor": 2
}
