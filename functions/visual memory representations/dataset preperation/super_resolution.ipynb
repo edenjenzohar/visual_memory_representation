{
 "cells": [
  {
   "cell_type": "code",
   "execution_count": 6,
   "metadata": {},
   "outputs": [],
   "source": [
    "import torch\n",
    "import os\n",
    "import torch\n",
    "import numpy as np\n",
    "from PIL import Image\n",
    "from pathlib import Path"
   ]
  },
  {
   "cell_type": "code",
   "execution_count": 8,
   "metadata": {},
   "outputs": [],
   "source": [
    "\n",
    "project_name='birds'\n",
    "experiment_name='experiment 1'\n",
    "batch_name='batch 1'\n",
    "\n",
    "PATH_TO_IMAGES=Path.cwd().parent.parent / 'projects' / project_name / experiment_name / 'experiment resources' / 'images' / 'all experiment images'\n",
    "PATH_TO_OUTPUT = Path.cwd().parent.parent / 'projects' / project_name / experiment_name / 'experiment resources' / 'images' / 'all experiment images super'"
   ]
  },
  {
   "cell_type": "code",
   "execution_count": 9,
   "metadata": {},
   "outputs": [],
   "source": [
    "\n",
    "# Create the output directory if it doesn't exist\n",
    "if not os.path.exists(PATH_TO_OUTPUT):\n",
    "    os.makedirs(PATH_TO_OUTPUT)\n",
    "    print('created new dir')"
   ]
  },
  {
   "cell_type": "code",
   "execution_count": 10,
   "metadata": {},
   "outputs": [],
   "source": [
    "all_images = list(PATH_TO_IMAGES.rglob('*.jpg'))"
   ]
  },
  {
   "cell_type": "code",
   "execution_count": 11,
   "metadata": {},
   "outputs": [
    {
     "name": "stdout",
     "output_type": "stream",
     "text": [
      "https://huggingface.co/eugenesiow/mdsr/resolve/main/pytorch_model_2x.pt\n"
     ]
    }
   ],
   "source": [
    "from super_image import MdsrModel, ImageLoader\n",
    "from PIL import Image\n",
    "import requests\n",
    "\n",
    "model = MdsrModel.from_pretrained('eugenesiow/mdsr', scale=2) \n",
    "\n",
    "for img in all_images:\n",
    "    image = Image.open(img)\n",
    "    img_name = img.name\n",
    "\n",
    "     \n",
    "    inputs = ImageLoader.load_image(image)\n",
    "    preds = model(inputs)\n",
    "\n",
    "    ImageLoader.save_image(preds,str(PATH_TO_OUTPUT/img_name))"
   ]
  }
 ],
 "metadata": {
  "kernelspec": {
   "display_name": ".venv",
   "language": "python",
   "name": "python3"
  },
  "language_info": {
   "codemirror_mode": {
    "name": "ipython",
    "version": 3
   },
   "file_extension": ".py",
   "mimetype": "text/x-python",
   "name": "python",
   "nbconvert_exporter": "python",
   "pygments_lexer": "ipython3",
   "version": "3.9.13"
  },
  "orig_nbformat": 4,
  "vscode": {
   "interpreter": {
    "hash": "ff74b95ea406c4af66824ece8e108179e3b7645850e63f8b233a77cb34e72413"
   }
  }
 },
 "nbformat": 4,
 "nbformat_minor": 2
}
